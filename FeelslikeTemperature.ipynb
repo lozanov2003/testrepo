{
  "nbformat": 4,
  "nbformat_minor": 0,
  "metadata": {
    "colab": {
      "name": "FeelslikeTemperature.ipynb",
      "provenance": [],
      "collapsed_sections": [],
      "authorship_tag": "ABX9TyPxwLIzBPXZjm4IO6fkPG7p",
      "include_colab_link": true
    },
    "kernelspec": {
      "name": "python3",
      "display_name": "Python 3"
    },
    "language_info": {
      "name": "python"
    }
  },
  "cells": [
    {
      "cell_type": "markdown",
      "metadata": {
        "id": "view-in-github",
        "colab_type": "text"
      },
      "source": [
        "<a href=\"https://colab.research.google.com/github/lozanov2003/testrepo/blob/master/FeelslikeTemperature.ipynb\" target=\"_parent\"><img src=\"https://colab.research.google.com/assets/colab-badge.svg\" alt=\"Open In Colab\"/></a>"
      ]
    },
    {
      "cell_type": "code",
      "metadata": {
        "colab": {
          "base_uri": "https://localhost:8080/"
        },
        "id": "JEFt1B8lNsZE",
        "outputId": "37745822-46d6-4815-f1a0-4dc9c859c0e8"
      },
      "source": [
        "#The Bureau of Meteorology uses a measure called the Steadman Apparent Temperature to define 'Feels like' temperature. \n",
        "\n",
        "#This is defined by the formula; AT = Ta + 0.348×e − 0.70×ws + 0.70×Q/(ws + 10) − 4.25 \n",
        "def apparent_temp(Ta, e, ws, Q):\n",
        "  AT = Ta + (0.348*e) - (0.708*ws) + (0.70*Q)/(ws + 10) - 4.25\n",
        "  Ta=float(input(\"Dry bulb temperature (°C): \"))\n",
        "  e=float(input(\"Water vapour pressure (hPa) [humidity]: \"))\n",
        "  ws=float(input(\"Wind speed (m/s) at an elevation of 10 meters: \"))\n",
        "  Q=float(input(\"Net radiation absorbed per unit area of body surface (w/m2): \"))\n",
        "  return(AT)\n",
        "\n",
        "#Print feels like temperature.\n",
        "print(\"Feels like temperature is {} degrees celcius.\".format(apparent_temp(Ta,e,ws,Q)))"
      ],
      "execution_count": 12,
      "outputs": [
        {
          "output_type": "stream",
          "name": "stdout",
          "text": [
            "Dry bulb temperature (°C): 32\n",
            "Water vapour pressure (hPa) [humidity]: 20\n",
            "Wind speed (m/s) at an elevation of 10 meters: 2.8\n",
            "Net radiation absorbed per unit area of body surface (w/m2): 174\n",
            "Feels like temperature is 42.243225 degrees celcius.\n"
          ]
        }
      ]
    }
  ]
}